{
 "cells": [
  {
   "cell_type": "markdown",
   "id": "1b94b15f-64eb-4f5a-9a87-0af5454ed8fc",
   "metadata": {},
   "source": [
    "# Solucao numerica do exercico 1.31 do livro-texto\n",
    "\n",
    " Questao: Considere uma pessoa que estah jogando dardos. O alvo eh formado por um\n",
    " círculo de raio R. Considere tambem que a pessoa que estah jogando nao tem\n",
    " experiência neste tipo de jogo; ou seja, o dardo pode cair em qualquer lugar dentro d\n",
    " a região delimitada pelo círculo de raio R. Assumindo que a pessoa jogou o dardo 100 vezes,\n",
    " quantas vezes aproximadamente ela atingiu pontos mais próximos do centro do círculo?\n",
    " Em outras palavras, qual a probabilidade de o dardo atingir um ponto mais próximo do centro do\n",
    " que da circunferência do círculo?\n",
    "\n",
    "## Autor: Guilherme A. Barreto\n",
    "## Data: 08/03/2024"
   ]
  },
  {
   "cell_type": "code",
   "execution_count": 14,
   "id": "1b570ec5-428f-4b27-a120-37258a942912",
   "metadata": {},
   "outputs": [],
   "source": [
    "using LinearAlgebra\n",
    "using Random"
   ]
  },
  {
   "cell_type": "code",
   "execution_count": 2,
   "id": "8a126e12-82ba-428c-9074-171cd132c7d5",
   "metadata": {},
   "outputs": [
    {
     "data": {
      "text/plain": [
       "0.5"
      ]
     },
     "execution_count": 2,
     "metadata": {},
     "output_type": "execute_result"
    }
   ],
   "source": [
    "N = 150 # Número de pontos em um círculo\n",
    "R = 0.5 # Raio do circulo maior"
   ]
  },
  {
   "cell_type": "code",
   "execution_count": 3,
   "id": "430e1d2b-7bf0-48d1-9bca-6274030d8c5a",
   "metadata": {},
   "outputs": [
    {
     "data": {
      "text/plain": [
       "150×2 Matrix{Float64}:\n",
       " 0.569938  0.948306\n",
       " 0.590194  0.443813\n",
       " 0.940959  0.250464\n",
       " 0.791604  0.0792669\n",
       " 0.491877  0.412731\n",
       " 0.422613  0.458624\n",
       " 0.407267  0.297358\n",
       " 0.594606  0.619405\n",
       " 0.989024  0.748203\n",
       " 0.616574  0.338529\n",
       " 0.183511  0.699549\n",
       " 0.980301  0.0753496\n",
       " 0.075849  0.348391\n",
       " ⋮         \n",
       " 0.756363  0.882024\n",
       " 0.478224  0.903337\n",
       " 0.427504  0.869608\n",
       " 0.131525  0.0734107\n",
       " 0.383644  0.581755\n",
       " 0.848423  0.893924\n",
       " 0.038406  0.562928\n",
       " 0.759758  0.388729\n",
       " 0.882852  0.698817\n",
       " 0.887259  0.600519\n",
       " 0.805333  0.499609\n",
       " 0.714068  0.654412"
      ]
     },
     "execution_count": 3,
     "metadata": {},
     "output_type": "execute_result"
    }
   ],
   "source": [
    "P = rand(N,2) # Gerar N pontos (x,y) no interior do quadro de lado 1"
   ]
  },
  {
   "cell_type": "code",
   "execution_count": 4,
   "id": "2122635c-8ee8-4ca4-a7b2-9c7b9baaf570",
   "metadata": {},
   "outputs": [
    {
     "data": {
      "text/plain": [
       "150×2 Matrix{Float64}:\n",
       "  0.0699378    0.448306\n",
       "  0.0901942   -0.0561869\n",
       "  0.440959    -0.249536\n",
       "  0.291604    -0.420733\n",
       " -0.00812313  -0.0872688\n",
       " -0.0773874   -0.0413764\n",
       " -0.0927333   -0.202642\n",
       "  0.0946065    0.119405\n",
       "  0.489024     0.248203\n",
       "  0.116574    -0.161471\n",
       " -0.316489     0.199549\n",
       "  0.480301    -0.42465\n",
       " -0.424151    -0.151609\n",
       "  ⋮           \n",
       "  0.256363     0.382024\n",
       " -0.021776     0.403337\n",
       " -0.0724956    0.369608\n",
       " -0.368475    -0.426589\n",
       " -0.116356     0.0817555\n",
       "  0.348423     0.393924\n",
       " -0.461594     0.0629275\n",
       "  0.259758    -0.111271\n",
       "  0.382852     0.198817\n",
       "  0.387259     0.100519\n",
       "  0.305333    -0.000390719\n",
       "  0.214068     0.154412"
      ]
     },
     "execution_count": 4,
     "metadata": {},
     "output_type": "execute_result"
    }
   ],
   "source": [
    "P .-= 0.5 # Translada centro do quadrado para a coordenada (0, 0)"
   ]
  },
  {
   "cell_type": "code",
   "execution_count": 5,
   "id": "72cd8c25-d29b-40b5-a74a-fd775787fca7",
   "metadata": {},
   "outputs": [
    {
     "data": {
      "text/plain": [
       "116×2 Matrix{Float64}:\n",
       "  0.0699378    0.448306\n",
       "  0.0901942   -0.0561869\n",
       " -0.00812313  -0.0872688\n",
       " -0.0773874   -0.0413764\n",
       " -0.0927333   -0.202642\n",
       "  0.0946065    0.119405\n",
       "  0.116574    -0.161471\n",
       " -0.316489     0.199549\n",
       " -0.424151    -0.151609\n",
       " -0.472176    -0.090756\n",
       " -0.123575    -0.309751\n",
       " -0.0457345   -0.348678\n",
       "  0.470059     0.0910271\n",
       "  ⋮           \n",
       " -0.10568     -0.439994\n",
       " -0.269558     0.010863\n",
       "  0.256363     0.382024\n",
       " -0.021776     0.403337\n",
       " -0.0724956    0.369608\n",
       " -0.116356     0.0817555\n",
       " -0.461594     0.0629275\n",
       "  0.259758    -0.111271\n",
       "  0.382852     0.198817\n",
       "  0.387259     0.100519\n",
       "  0.305333    -0.000390719\n",
       "  0.214068     0.154412"
      ]
     },
     "execution_count": 5,
     "metadata": {},
     "output_type": "execute_result"
    }
   ],
   "source": [
    "# Passo 1 \n",
    "Pc = [0, 0]'\n",
    "for i=1:N\n",
    "    if P[i,1]^2 + P[i,2]^2 <= R^2 # Seleciona um ponto no interior do circulo de raio R\n",
    "        Pc = vcat(Pc, P[i,:]') # Armazena nas linhas da matriz Pc\n",
    "    end\n",
    "end\n",
    "Pc = Pc[2:end, :]"
   ]
  },
  {
   "cell_type": "code",
   "execution_count": 6,
   "id": "2c099922-2ce4-4e02-8291-c544a221586b",
   "metadata": {},
   "outputs": [
    {
     "data": {
      "text/plain": [
       "0.25"
      ]
     },
     "execution_count": 6,
     "metadata": {},
     "output_type": "execute_result"
    }
   ],
   "source": [
    "# Passo 2\n",
    "N1 = size(Pc)[1] # N° de pontos que estão no interior do círculo de raio R\n",
    "Rm = R/2 # Raio do círculo menor"
   ]
  },
  {
   "cell_type": "code",
   "execution_count": 7,
   "id": "812825fe-bace-4073-b7c3-608f5b32bf58",
   "metadata": {},
   "outputs": [
    {
     "data": {
      "text/plain": [
       "32×2 Matrix{Float64}:\n",
       "  0.0901942   -0.0561869\n",
       " -0.00812313  -0.0872688\n",
       " -0.0773874   -0.0413764\n",
       " -0.0927333   -0.202642\n",
       "  0.0946065    0.119405\n",
       "  0.116574    -0.161471\n",
       "  0.00627402   0.214326\n",
       "  0.188905    -0.162196\n",
       " -0.111232     0.0966019\n",
       " -0.208907    -0.0760261\n",
       " -0.205766    -0.0830334\n",
       " -0.00189697  -0.0628915\n",
       "  0.119234     0.0303584\n",
       "  ⋮           \n",
       " -0.224518     0.0978292\n",
       " -0.123015    -0.113308\n",
       " -0.0929475    0.0745935\n",
       "  0.0167483   -0.184784\n",
       "  0.177636    -0.110334\n",
       " -0.0109312    0.194137\n",
       " -0.0827179   -0.233914\n",
       " -0.0705015    0.0956491\n",
       "  0.0509914    0.213086\n",
       " -0.057533    -0.171834\n",
       "  0.0962017   -0.0468136\n",
       " -0.116356     0.0817555"
      ]
     },
     "execution_count": 7,
     "metadata": {},
     "output_type": "execute_result"
    }
   ],
   "source": [
    "Pcm = [0, 0]'\n",
    "for i=1:N1\n",
    "    if Pc[i,1]^2 + Pc[i,2]^2 <= Rm^2 # Seleciona pontos no interior do circulo de raio Rm\n",
    "        Pcm = vcat(Pcm, Pc[i,:]')\n",
    "    end\n",
    "end\n",
    "Pcm = Pcm[2:end, :]"
   ]
  },
  {
   "cell_type": "code",
   "execution_count": 8,
   "id": "47813f8b-084c-4820-8fa7-b4626a9741d8",
   "metadata": {},
   "outputs": [
    {
     "data": {
      "text/plain": [
       "0.27586206896551724"
      ]
     },
     "execution_count": 8,
     "metadata": {},
     "output_type": "execute_result"
    }
   ],
   "source": [
    "N2 = size(Pcm)[1] # N° de pontos que estão no interior do círculo de raio Rm\n",
    "P_tot = N2/N1 # Razão entre o total de pontos no interior do círculo de raio Rm e total de pontos no interior do círculo de raio R"
   ]
  },
  {
   "cell_type": "code",
   "execution_count": 9,
   "id": "3e596c34-f6ed-4abf-bae0-721da16d663b",
   "metadata": {},
   "outputs": [],
   "source": [
    "using Plots"
   ]
  },
  {
   "cell_type": "code",
   "execution_count": 10,
   "id": "69f63654-d94c-4e10-a042-681209031faf",
   "metadata": {},
   "outputs": [
    {
     "data": {
      "text/plain": [
       "circleplot (generic function with 1 method)"
      ]
     },
     "execution_count": 10,
     "metadata": {},
     "output_type": "execute_result"
    }
   ],
   "source": [
    "function circleplot(x_0,y_0,r)\n",
    "    θ = 0:1e-5:2π\n",
    "    x = x_0 .+ r*cos.(θ)\n",
    "    y = y_0 .+ r*sin.(θ)\n",
    "    return x,y\n",
    "end"
   ]
  },
  {
   "cell_type": "code",
   "execution_count": 11,
   "id": "520d5eb2-ed86-467d-9be9-a15c23f95000",
   "metadata": {},
   "outputs": [
    {
     "data": {
      "text/plain": [
       "150×2 Matrix{Float64}:\n",
       "  0.0699378    0.448306\n",
       "  0.0901942   -0.0561869\n",
       "  0.440959    -0.249536\n",
       "  0.291604    -0.420733\n",
       " -0.00812313  -0.0872688\n",
       " -0.0773874   -0.0413764\n",
       " -0.0927333   -0.202642\n",
       "  0.0946065    0.119405\n",
       "  0.489024     0.248203\n",
       "  0.116574    -0.161471\n",
       " -0.316489     0.199549\n",
       "  0.480301    -0.42465\n",
       " -0.424151    -0.151609\n",
       "  ⋮           \n",
       "  0.256363     0.382024\n",
       " -0.021776     0.403337\n",
       " -0.0724956    0.369608\n",
       " -0.368475    -0.426589\n",
       " -0.116356     0.0817555\n",
       "  0.348423     0.393924\n",
       " -0.461594     0.0629275\n",
       "  0.259758    -0.111271\n",
       "  0.382852     0.198817\n",
       "  0.387259     0.100519\n",
       "  0.305333    -0.000390719\n",
       "  0.214068     0.154412"
      ]
     },
     "execution_count": 11,
     "metadata": {},
     "output_type": "execute_result"
    }
   ],
   "source": [
    "P"
   ]
  },
  {
   "cell_type": "code",
   "execution_count": null,
   "id": "10076ec2-50ed-4f6e-b51d-8cdb86c75805",
   "metadata": {},
   "outputs": [],
   "source": [
    "x_circ_1, y_circ_1 = circleplot(0,0,R)\n",
    "x_circ_2, y_circ_2 = circleplot(0,0,Rm)\n",
    "plot(x_circ_1, y_circ_1, aspect_ratio = 1)\n",
    "plot!(x_circ_2, y_circ_2)\n",
    "plot!(P, seriestype=:scatter)"
   ]
  }
 ],
 "metadata": {
  "kernelspec": {
   "display_name": "Julia 1.10.2",
   "language": "julia",
   "name": "julia-1.10"
  },
  "language_info": {
   "file_extension": ".jl",
   "mimetype": "application/julia",
   "name": "julia",
   "version": "1.10.2"
  }
 },
 "nbformat": 4,
 "nbformat_minor": 5
}
