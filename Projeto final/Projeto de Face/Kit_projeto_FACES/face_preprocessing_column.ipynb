{
 "cells": [
  {
   "cell_type": "code",
   "execution_count": 1,
   "id": "020c7807-f679-45fb-8f29-d50b65cec839",
   "metadata": {},
   "outputs": [],
   "source": [
    "import numpy as np\n",
    "import pandas as pd\n",
    "from PIL import Image, ImageFilter"
   ]
  },
  {
   "cell_type": "code",
   "execution_count": 9,
   "id": "469768bc-a33c-4555-92e6-2fa2a88af2ad",
   "metadata": {},
   "outputs": [],
   "source": [
    "part1 = 'subject0'\n",
    "part2 = 'subject'\n",
    "part3 = np.array(['.centerlight', '.glasses', '.happy', '.leftlight', '.noglasses', '.normal', '.rightlight', '.sad', '.sleepy', '.surprised', '.wink'])\n",
    "\n",
    "Nind = 15\n",
    "Nexp = part3.size\n",
    "\n",
    "img_size = 900\n",
    "norm = {1:'_no_norm', 2:'_bin', 3:'_polar'}\n",
    "norm_idx = 3"
   ]
  },
  {
   "cell_type": "code",
   "execution_count": 10,
   "id": "a2ec9d2b-ea97-4a63-bba5-34f0f32a6356",
   "metadata": {},
   "outputs": [],
   "source": [
    "for idx in range(norm_idx):\n",
    "\n",
    "    X = np.array([])\n",
    "    Y = np.array([])\n",
    "    Z = np.array([])\n",
    "\n",
    "    for i in range(Nind):\n",
    "        for j in range(Nexp):\n",
    "            if i < 9:\n",
    "                nome = part1 + str(i+1) + part3[j]\n",
    "            else:\n",
    "                nome = part2 + str(i+1) + part3[j]\n",
    "    \n",
    "            with Image.open(nome) as img:\n",
    "                img.load()\n",
    "    \n",
    "            Ar = img.resize((int(np.sqrt(img_size)),int(np.sqrt(img_size))))\n",
    "            An = Ar.filter(ImageFilter.BLUR)\n",
    "            A = np.array(An)\n",
    "    \n",
    "            a = A.flatten()\n",
    "    \n",
    "            if idx + 1 == 1:\n",
    "                ROT = i\n",
    "                Y = np.hstack((Y, ROT))\n",
    "                \n",
    "    \n",
    "            elif idx + 1 == 2:\n",
    "                ROT = np.zeros((Nind)); ROT[i] = 1\n",
    "                Y = np.hstack((Y, ROT.T))\n",
    "            \n",
    "            else:\n",
    "                ROT = -1*np.ones((Nind)); ROT[i] = 1\n",
    "                Y = np.hstack((Y, ROT.T))\n",
    "    \n",
    "            X = np.hstack((X,a))\n",
    "            \n",
    "    \n",
    "    X = X.reshape((img_size, Nexp*Nind),order='F')\n",
    "    \n",
    "    if idx + 1 == 1:\n",
    "        Y = Y.reshape((Y.size,1),order='F')\n",
    "        \n",
    "    \n",
    "    elif idx + 1 == 2:\n",
    "        Y = Y.reshape((Nind*Nexp, Nind),order='F')\n",
    "    \n",
    "    else:\n",
    "        Y = Y.reshape((Nind*Nexp, Nind),order='F')\n",
    "    \n",
    "    \n",
    "    \n",
    "    Z = np.hstack((X.T, Y))\n",
    "    pd.DataFrame(Z).to_csv('recfaces_'+str(img_size)+norm[idx+1]+'.csv', index=False)"
   ]
  }
 ],
 "metadata": {
  "kernelspec": {
   "display_name": "Python 3 (ipykernel)",
   "language": "python",
   "name": "python3"
  },
  "language_info": {
   "codemirror_mode": {
    "name": "ipython",
    "version": 3
   },
   "file_extension": ".py",
   "mimetype": "text/x-python",
   "name": "python",
   "nbconvert_exporter": "python",
   "pygments_lexer": "ipython3",
   "version": "3.12.3"
  }
 },
 "nbformat": 4,
 "nbformat_minor": 5
}
