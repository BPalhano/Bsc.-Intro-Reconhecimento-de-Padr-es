{
 "cells": [
  {
   "cell_type": "code",
   "execution_count": 2,
   "id": "2d9d398f-1a3a-4523-ba6c-887ce551ed7c",
   "metadata": {},
   "outputs": [],
   "source": [
    "import numpy as np\n",
    "import pandas as pd\n",
    "from IPR_methods import Correlation, Covariance, Quadratic_classifier"
   ]
  },
  {
   "cell_type": "code",
   "execution_count": 57,
   "id": "317291b7-e154-4a81-a1cc-f637f56382d5",
   "metadata": {},
   "outputs": [],
   "source": [
    "def mean_centroid(data, n_ind, n_exp, size, ROT):\n",
    "\n",
    "    \n",
    "    centroid = np.zeros((size, n_ind))\n",
    "    \n",
    "    for feat in range(n_ind): # Centroide pela média\n",
    "        mean_centroid = np.mean(data[n_exp*feat:n_exp*feat + (n_exp-1),:], axis=0)\n",
    "        centroid[:,feat] = mean_centroid[0:size]\n",
    "    return centroid"
   ]
  },
  {
   "cell_type": "code",
   "execution_count": 65,
   "id": "c4690faa-893a-4c34-8072-a4bc783c7710",
   "metadata": {},
   "outputs": [],
   "source": [
    "def median_centroid(data, n_ind, n_exp, size):\n",
    "\n",
    "    \n",
    "    centroid = np.zeros((size, n_ind))\n",
    "    \n",
    "    for feat in range(n_ind): # Centroide pela média\n",
    "        median_centroid = np.median(data[n_exp*feat:n_exp*feat + (n_exp-1),:], axis=0)\n",
    "        centroid[:,feat] = median_centroid[0:size]\n",
    "    return centroid"
   ]
  },
  {
   "cell_type": "code",
   "execution_count": 17,
   "id": "486cd56d-207d-472d-bb73-67b9bde1afc3",
   "metadata": {},
   "outputs": [],
   "source": [
    "data_no_norm = pd.read_csv('recfaces_900_no_norm.csv').to_numpy()\n",
    "data_polar   = pd.read_csv('recfaces_900_polar.csv').to_numpy()\n",
    "data_bin     = pd.read_csv('recfaces_900_bin.csv').to_numpy()\n",
    "\n",
    "Nexp = 11\n",
    "Nind = 15"
   ]
  },
  {
   "cell_type": "code",
   "execution_count": 66,
   "id": "3a5eb35b-3df8-4da3-b43e-11cc8e42f6b5",
   "metadata": {},
   "outputs": [
    {
     "data": {
      "text/plain": [
       "array([[244. , 243. , 244. , ..., 244. , 244. , 244. ],\n",
       "       [244. , 243. , 244. , ..., 244. , 244. , 244. ],\n",
       "       [244. , 243. , 244. , ..., 244. , 244. , 244. ],\n",
       "       ...,\n",
       "       [236. , 179. , 239. , ..., 207. , 239. , 221.5],\n",
       "       [238. , 175.5, 239. , ..., 209.5, 239. , 223.5],\n",
       "       [238. , 177. , 239. , ..., 209.5, 239. , 225.5]])"
      ]
     },
     "execution_count": 66,
     "metadata": {},
     "output_type": "execute_result"
    }
   ],
   "source": [
    "median_centroid(data_no_norm, Nind, Nexp, 900)"
   ]
  },
  {
   "cell_type": "code",
   "execution_count": 60,
   "id": "e3bf0067-3cd9-4dde-b64c-7087d7ea369b",
   "metadata": {},
   "outputs": [
    {
     "name": "stdout",
     "output_type": "stream",
     "text": [
      "(165, 901)\n",
      "(165, 915)\n",
      "(165, 915)\n"
     ]
    }
   ],
   "source": [
    "print(data_no_norm.shape)\n",
    "print(data_bin.shape)\n",
    "print(data_polar.shape)"
   ]
  },
  {
   "cell_type": "code",
   "execution_count": 3,
   "id": "1e626fda-b36d-4be6-a285-61f62982a783",
   "metadata": {},
   "outputs": [],
   "source": [
    "Nr = 50\n",
    "Ptrain = 80"
   ]
  },
  {
   "cell_type": "code",
   "execution_count": 9,
   "id": "7833d442-fdbe-47ff-b004-78bcde14f157",
   "metadata": {},
   "outputs": [
    {
     "data": {
      "text/plain": [
       "11.0"
      ]
     },
     "execution_count": 9,
     "metadata": {},
     "output_type": "execute_result"
    }
   ],
   "source": []
  },
  {
   "cell_type": "code",
   "execution_count": 25,
   "id": "db890e07-0ffd-4411-9213-d4fe722e5dad",
   "metadata": {},
   "outputs": [
    {
     "name": "stdout",
     "output_type": "stream",
     "text": [
      "0\n",
      "11\n",
      "22\n",
      "33\n",
      "44\n",
      "55\n",
      "66\n",
      "77\n",
      "88\n",
      "99\n",
      "110\n",
      "121\n",
      "132\n",
      "143\n",
      "154\n"
     ]
    }
   ],
   "source": [
    "for i in range(15):\n",
    "    print(i*11)"
   ]
  }
 ],
 "metadata": {
  "kernelspec": {
   "display_name": "Python 3 (ipykernel)",
   "language": "python",
   "name": "python3"
  },
  "language_info": {
   "codemirror_mode": {
    "name": "ipython",
    "version": 3
   },
   "file_extension": ".py",
   "mimetype": "text/x-python",
   "name": "python",
   "nbconvert_exporter": "python",
   "pygments_lexer": "ipython3",
   "version": "3.12.3"
  }
 },
 "nbformat": 4,
 "nbformat_minor": 5
}
